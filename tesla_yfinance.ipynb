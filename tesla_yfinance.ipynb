{
 "cells": [
  {
   "cell_type": "code",
   "execution_count": null,
   "id": "9d467693-9fc5-487d-9dd3-27050c8733f7",
   "metadata": {
    "tags": []
   },
   "outputs": [],
   "source": [
    "import yfinance as yf\n",
    "\n",
    "# Extracting Tesla Stock Data\n",
    "tesla_ticker = yf.Ticker(\"TSLA\")\n",
    "tesla_data = tesla_ticker.history(period=\"max\")\n",
    "\n",
    "# Resetting the index\n",
    "tesla_data_reset = tesla_data.reset_index()\n",
    "\n",
    "# Convert the DataFrame to JSON format; orient='records' makes the JSON file more readable\n",
    "# by writing each row as a JSON object\n",
    "tesla_json = tesla_data.to_json(orient='records')\n",
    "\n",
    "# Define the filename\n",
    "filename = 'tesla.json'\n",
    "\n",
    "# Write the JSON data to a file\n",
    "with open(filename, 'w') as file:\n",
    "    file.write(tesla_json)\n",
    "\n",
    "# Display the first five rows of the dataframe\n",
    "tesla_data_reset_head = tesla_data_reset.head()\n",
    "tesla_data_reset_head\n"
   ]
  },
  {
   "cell_type": "code",
   "execution_count": null,
   "id": "06bda3ff-eb54-44b9-855b-f42a0f7d925c",
   "metadata": {},
   "outputs": [],
   "source": []
  }
 ],
 "metadata": {
  "kernelspec": {
   "display_name": "Python",
   "language": "python",
   "name": "conda-env-python-py"
  },
  "language_info": {
   "codemirror_mode": {
    "name": "ipython",
    "version": 3
   },
   "file_extension": ".py",
   "mimetype": "text/x-python",
   "name": "python",
   "nbconvert_exporter": "python",
   "pygments_lexer": "ipython3",
   "version": "3.7.12"
  }
 },
 "nbformat": 4,
 "nbformat_minor": 5
}
